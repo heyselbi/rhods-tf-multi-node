{
 "cells": [
  {
   "cell_type": "code",
   "execution_count": null,
   "id": "50ce5413-893f-48de-9881-24d8ded8cb66",
   "metadata": {},
   "outputs": [],
   "source": [
    "# update with login token for your cluster\n",
    "!oc login --token=shaXXX --server=https://XXXX"
   ]
  },
  {
   "cell_type": "code",
   "execution_count": null,
   "id": "84391370-125f-418c-bf69-3bf9f2b83bb3",
   "metadata": {},
   "outputs": [],
   "source": [
    "%%writefile tfjob-mnist.yaml\n",
    "apiVersion: kubeflow.org/v1\n",
    "kind: TFJob\n",
    "metadata:\n",
    "  generateName: tfjob-multi-\n",
    "  namespace: tf-distributed\n",
    "spec:\n",
    "  cleanPodPolicy: Running\n",
    "  tfReplicaSpecs:\n",
    "    Worker:\n",
    "      replicas: 2\n",
    "      restartPolicy: Never\n",
    "      template:\n",
    "        metadata:\n",
    "          annotations:\n",
    "            sidecar.istio.io/inject: \"false\"\n",
    "        spec:            \n",
    "          containers:\n",
    "          - name: tensorflow\n",
    "            image: \"quay.io/selbi/ubi-cuda-tf-mnist:1.3\"\n",
    "            command: [\"python3\", \"/home/mnist/src/main.py\"] \n",
    "            imagePullPolicy: Always\n",
    "            env:\n",
    "              - name: TF_FORCE_GPU_ALLOW_GROWTH\n",
    "                value: \"true\"\n",
    "            resources:\n",
    "                limits:\n",
    "                    nvidia.com/gpu: 3"
   ]
  },
  {
   "cell_type": "code",
   "execution_count": null,
   "id": "b199c9cd-eb49-441a-b61a-5c1289fe5987",
   "metadata": {},
   "outputs": [],
   "source": [
    "!oc new-project tf-distributed"
   ]
  },
  {
   "cell_type": "code",
   "execution_count": null,
   "id": "8d85c3f2-befb-41cf-b10f-0983552b9665",
   "metadata": {},
   "outputs": [],
   "source": [
    "!oc create -f tfjob-mnist.yaml"
   ]
  },
  {
   "cell_type": "code",
   "execution_count": null,
   "id": "c844cc72-6000-4f3c-a00b-c9f1080b8f9a",
   "metadata": {},
   "outputs": [],
   "source": [
    "!oc get pods | grep tfjob-multi"
   ]
  },
  {
   "cell_type": "code",
   "execution_count": null,
   "id": "7f01cc61-d5bd-4fbd-9e08-032fa244e992",
   "metadata": {},
   "outputs": [],
   "source": [
    "# update the pod name with output above\n",
    "!oc logs pod/tfjob-multi-nqtqm-worker-0 | grep \"/job:worker/replica:0/task:0/device:GPU:\""
   ]
  },
  {
   "cell_type": "code",
   "execution_count": null,
   "id": "bf949e0e-92b1-4dcb-bccd-86ccf4090056",
   "metadata": {},
   "outputs": [],
   "source": [
    "# update the pod name with output from \"!oc get pods...\"\n",
    "!oc logs pod/tfjob-multi-nqtqm-worker-0 | grep \"GrpcChannelCache\""
   ]
  },
  {
   "cell_type": "code",
   "execution_count": null,
   "id": "4f658041-56e8-41f7-995a-ebd66dfdceac",
   "metadata": {},
   "outputs": [],
   "source": [
    "# update the pod name with output from \"!oc get pods...\"\n",
    "!oc logs pod/tfjob-multi-qhqhh-worker-0 | grep \"accuracy\""
   ]
  },
  {
   "cell_type": "code",
   "execution_count": null,
   "id": "b21bd0a7-c48f-4cc8-8ff6-b4c4d266bcaa",
   "metadata": {},
   "outputs": [],
   "source": [
    "# once training is completed, clean up and delete the project and all related resources\n",
    "!oc delete tfjobs --all -n tf-distributed\n",
    "!oc delete project tf-distributed"
   ]
  },
  {
   "cell_type": "code",
   "execution_count": null,
   "id": "698231c2-d8c4-4a50-aa89-6a2c2ab917dc",
   "metadata": {},
   "outputs": [],
   "source": [
    "# ADVANCED TOPIC: How to check available NVIDIA GPUs on the OpenShift cluster and monitor their usage\n",
    "!oc get pods -n gpu-operator-resources -w"
   ]
  },
  {
   "cell_type": "code",
   "execution_count": null,
   "id": "b45ec3fb-2636-4439-b01c-fe75f3296b47",
   "metadata": {},
   "outputs": [],
   "source": [
    "# from the output of the cell above, replace 'XXXX' of the command below with corresponding pod name\n",
    "!oc exec -it nvidia-driver-daemonset-XXXX nvidia-smi -n gpu-operator-resources"
   ]
  }
 ],
 "metadata": {
  "kernelspec": {
   "display_name": "Python 3",
   "language": "python",
   "name": "python3"
  },
  "language_info": {
   "codemirror_mode": {
    "name": "ipython",
    "version": 3
   },
   "file_extension": ".py",
   "mimetype": "text/x-python",
   "name": "python",
   "nbconvert_exporter": "python",
   "pygments_lexer": "ipython3",
   "version": "3.8.6"
  }
 },
 "nbformat": 4,
 "nbformat_minor": 5
}
